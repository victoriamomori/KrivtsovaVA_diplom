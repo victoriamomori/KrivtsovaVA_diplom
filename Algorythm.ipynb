{
  "cells": [
    {
      "cell_type": "markdown",
      "metadata": {
        "id": "kTqxsh_62VQU"
      },
      "source": [
        "## Веб-скрапинг\n"
      ]
    },
    {
      "cell_type": "code",
      "execution_count": 69,
      "metadata": {
        "colab": {
          "base_uri": "https://localhost:8080/"
        },
        "id": "1BgBVutnijAp",
        "outputId": "62f804d0-88ea-4675-cc29-99c039150132"
      },
      "outputs": [
        {
          "output_type": "stream",
          "name": "stdout",
          "text": [
            "['//lobachevskii-dml.ru/article/9712', '//lobachevskii-dml.ru/article/9714', '//lobachevskii-dml.ru/article/9715', '//lobachevskii-dml.ru/article/9716', '//lobachevskii-dml.ru/article/9717', '//lobachevskii-dml.ru/article/9718', '//lobachevskii-dml.ru/article/9719', '//lobachevskii-dml.ru/article/9720', '//lobachevskii-dml.ru/article/9721', '//lobachevskii-dml.ru/article/9722', '//lobachevskii-dml.ru/article/9723', '//lobachevskii-dml.ru/article/9725', '//lobachevskii-dml.ru/article/9726', '//lobachevskii-dml.ru/article/9727', '//lobachevskii-dml.ru/article/9728', '//lobachevskii-dml.ru/article/9729']\n",
            "['//lobachevskii-dml.ru/article/9700', '//lobachevskii-dml.ru/article/9701', '//lobachevskii-dml.ru/article/9703', '//lobachevskii-dml.ru/article/9704', '//lobachevskii-dml.ru/article/9705', '//lobachevskii-dml.ru/article/9706', '//lobachevskii-dml.ru/article/9707', '//lobachevskii-dml.ru/article/9708', '//lobachevskii-dml.ru/article/9709', '//lobachevskii-dml.ru/article/9710', '//lobachevskii-dml.ru/article/9711']\n",
            "['//lobachevskii-dml.ru/article/9686', '//lobachevskii-dml.ru/article/9687', '//lobachevskii-dml.ru/article/9688', '//lobachevskii-dml.ru/article/9689', '//lobachevskii-dml.ru/article/9690', '//lobachevskii-dml.ru/article/9692', '//lobachevskii-dml.ru/article/9693', '//lobachevskii-dml.ru/article/9694', '//lobachevskii-dml.ru/article/9695', '//lobachevskii-dml.ru/article/9696', '//lobachevskii-dml.ru/article/9697', '//lobachevskii-dml.ru/article/9698', '//lobachevskii-dml.ru/article/9699']\n",
            "['//lobachevskii-dml.ru/article/9673', '//lobachevskii-dml.ru/article/9674', '//lobachevskii-dml.ru/article/9675', '//lobachevskii-dml.ru/article/9676', '//lobachevskii-dml.ru/article/9677', '//lobachevskii-dml.ru/article/9678', '//lobachevskii-dml.ru/article/9679', '//lobachevskii-dml.ru/article/9681', '//lobachevskii-dml.ru/article/9682', '//lobachevskii-dml.ru/article/9683', '//lobachevskii-dml.ru/article/9684', '//lobachevskii-dml.ru/article/9685']\n",
            "['//lobachevskii-dml.ru/article/9654', '//lobachevskii-dml.ru/article/9655', '//lobachevskii-dml.ru/article/9656', '//lobachevskii-dml.ru/article/9657', '//lobachevskii-dml.ru/article/9659', '//lobachevskii-dml.ru/article/9660', '//lobachevskii-dml.ru/article/9661', '//lobachevskii-dml.ru/article/9662', '//lobachevskii-dml.ru/article/9663', '//lobachevskii-dml.ru/article/9664', '//lobachevskii-dml.ru/article/9665', '//lobachevskii-dml.ru/article/9666', '//lobachevskii-dml.ru/article/9667', '//lobachevskii-dml.ru/article/9668', '//lobachevskii-dml.ru/article/9670', '//lobachevskii-dml.ru/article/9671', '//lobachevskii-dml.ru/article/9672']\n",
            "['//lobachevskii-dml.ru/article/9631', '//lobachevskii-dml.ru/article/9632', '//lobachevskii-dml.ru/article/9633', '//lobachevskii-dml.ru/article/9634', '//lobachevskii-dml.ru/article/9635', '//lobachevskii-dml.ru/article/9637', '//lobachevskii-dml.ru/article/9638', '//lobachevskii-dml.ru/article/9639', '//lobachevskii-dml.ru/article/9640', '//lobachevskii-dml.ru/article/9641', '//lobachevskii-dml.ru/article/9642', '//lobachevskii-dml.ru/article/9643', '//lobachevskii-dml.ru/article/9644', '//lobachevskii-dml.ru/article/9645', '//lobachevskii-dml.ru/article/9646', '//lobachevskii-dml.ru/article/9648', '//lobachevskii-dml.ru/article/9649', '//lobachevskii-dml.ru/article/9650', '//lobachevskii-dml.ru/article/9651', '//lobachevskii-dml.ru/article/9652', '//lobachevskii-dml.ru/article/9653']\n",
            "['//lobachevskii-dml.ru/article/9607', '//lobachevskii-dml.ru/article/9608', '//lobachevskii-dml.ru/article/9609', '//lobachevskii-dml.ru/article/9610', '//lobachevskii-dml.ru/article/9611', '//lobachevskii-dml.ru/article/9612', '//lobachevskii-dml.ru/article/9614', '//lobachevskii-dml.ru/article/9615', '//lobachevskii-dml.ru/article/9616', '//lobachevskii-dml.ru/article/9617', '//lobachevskii-dml.ru/article/9618', '//lobachevskii-dml.ru/article/9619', '//lobachevskii-dml.ru/article/9620', '//lobachevskii-dml.ru/article/9621', '//lobachevskii-dml.ru/article/9622', '//lobachevskii-dml.ru/article/9623', '//lobachevskii-dml.ru/article/9626', '//lobachevskii-dml.ru/article/9627', '//lobachevskii-dml.ru/article/9628', '//lobachevskii-dml.ru/article/9629', '//lobachevskii-dml.ru/article/9630']\n",
            "['//lobachevskii-dml.ru/article/9577', '//lobachevskii-dml.ru/article/9578', '//lobachevskii-dml.ru/article/9579', '//lobachevskii-dml.ru/article/9581', '//lobachevskii-dml.ru/article/9582', '//lobachevskii-dml.ru/article/9583', '//lobachevskii-dml.ru/article/9584', '//lobachevskii-dml.ru/article/9585', '//lobachevskii-dml.ru/article/9586', '//lobachevskii-dml.ru/article/9587', '//lobachevskii-dml.ru/article/9588', '//lobachevskii-dml.ru/article/9589', '//lobachevskii-dml.ru/article/9590', '//lobachevskii-dml.ru/article/9592', '//lobachevskii-dml.ru/article/9593', '//lobachevskii-dml.ru/article/9594', '//lobachevskii-dml.ru/article/9595', '//lobachevskii-dml.ru/article/9596', '//lobachevskii-dml.ru/article/9597', '//lobachevskii-dml.ru/article/9598', '//lobachevskii-dml.ru/article/9599', '//lobachevskii-dml.ru/article/9600', '//lobachevskii-dml.ru/article/9601', '//lobachevskii-dml.ru/article/9603', '//lobachevskii-dml.ru/article/9604', '//lobachevskii-dml.ru/article/9605', '//lobachevskii-dml.ru/article/9606']\n",
            "['//lobachevskii-dml.ru/article/9522', '//lobachevskii-dml.ru/article/9527', '//lobachevskii-dml.ru/article/9528', '//lobachevskii-dml.ru/article/9529', '//lobachevskii-dml.ru/article/9530', '//lobachevskii-dml.ru/article/9531', '//lobachevskii-dml.ru/article/9532', '//lobachevskii-dml.ru/article/9533', '//lobachevskii-dml.ru/article/9534', '//lobachevskii-dml.ru/article/9535', '//lobachevskii-dml.ru/article/9537', '//lobachevskii-dml.ru/article/9538', '//lobachevskii-dml.ru/article/9539', '//lobachevskii-dml.ru/article/9540', '//lobachevskii-dml.ru/article/9541', '//lobachevskii-dml.ru/article/9542', '//lobachevskii-dml.ru/article/9543', '//lobachevskii-dml.ru/article/9544', '//lobachevskii-dml.ru/article/9545', '//lobachevskii-dml.ru/article/9546']\n",
            "['//lobachevskii-dml.ru/article/9564', '//lobachevskii-dml.ru/article/9565', '//lobachevskii-dml.ru/article/9566', '//lobachevskii-dml.ru/article/9567', '//lobachevskii-dml.ru/article/9568', '//lobachevskii-dml.ru/article/9570', '//lobachevskii-dml.ru/article/9571', '//lobachevskii-dml.ru/article/9572', '//lobachevskii-dml.ru/article/9573', '//lobachevskii-dml.ru/article/9574', '//lobachevskii-dml.ru/article/9575', '//lobachevskii-dml.ru/article/9576']\n",
            "['//lobachevskii-dml.ru/article/9548', '//lobachevskii-dml.ru/article/9549', '//lobachevskii-dml.ru/article/9550', '//lobachevskii-dml.ru/article/9551', '//lobachevskii-dml.ru/article/9552', '//lobachevskii-dml.ru/article/9553', '//lobachevskii-dml.ru/article/9554', '//lobachevskii-dml.ru/article/9555', '//lobachevskii-dml.ru/article/9556', '//lobachevskii-dml.ru/article/9557', '//lobachevskii-dml.ru/article/9559', '//lobachevskii-dml.ru/article/9560', '//lobachevskii-dml.ru/article/9561', '//lobachevskii-dml.ru/article/9562', '//lobachevskii-dml.ru/article/9563']\n",
            "['//lobachevskii-dml.ru/article/9798', '//lobachevskii-dml.ru/article/9799', '//lobachevskii-dml.ru/article/9800', '//lobachevskii-dml.ru/article/9801', '//lobachevskii-dml.ru/article/9802', '//lobachevskii-dml.ru/article/9803', '//lobachevskii-dml.ru/article/9804', '//lobachevskii-dml.ru/article/9805', '//lobachevskii-dml.ru/article/9806', '//lobachevskii-dml.ru/article/9515', '//lobachevskii-dml.ru/article/9516', '//lobachevskii-dml.ru/article/9517', '//lobachevskii-dml.ru/article/9518', '//lobachevskii-dml.ru/article/9519', '//lobachevskii-dml.ru/article/9520', '//lobachevskii-dml.ru/article/9521', '//lobachevskii-dml.ru/article/9523', '//lobachevskii-dml.ru/article/9524', '//lobachevskii-dml.ru/article/9526']\n",
            "['//lobachevskii-dml.ru/article/9782', '//lobachevskii-dml.ru/article/9783', '//lobachevskii-dml.ru/article/9784', '//lobachevskii-dml.ru/article/9786', '//lobachevskii-dml.ru/article/9787', '//lobachevskii-dml.ru/article/9788', '//lobachevskii-dml.ru/article/9789', '//lobachevskii-dml.ru/article/9790', '//lobachevskii-dml.ru/article/9791', '//lobachevskii-dml.ru/article/9792', '//lobachevskii-dml.ru/article/9793', '//lobachevskii-dml.ru/article/9794', '//lobachevskii-dml.ru/article/9795', '//lobachevskii-dml.ru/article/9797']\n",
            "['//lobachevskii-dml.ru/article/9765', '//lobachevskii-dml.ru/article/9766', '//lobachevskii-dml.ru/article/9767', '//lobachevskii-dml.ru/article/9768', '//lobachevskii-dml.ru/article/9769', '//lobachevskii-dml.ru/article/9770', '//lobachevskii-dml.ru/article/9771', '//lobachevskii-dml.ru/article/9772', '//lobachevskii-dml.ru/article/9773', '//lobachevskii-dml.ru/article/9775', '//lobachevskii-dml.ru/article/9776', '//lobachevskii-dml.ru/article/9777', '//lobachevskii-dml.ru/article/9778', '//lobachevskii-dml.ru/article/9779', '//lobachevskii-dml.ru/article/9780', '//lobachevskii-dml.ru/article/9781']\n",
            "['//lobachevskii-dml.ru/article/9749', '//lobachevskii-dml.ru/article/9750', '//lobachevskii-dml.ru/article/9751', '//lobachevskii-dml.ru/article/9753', '//lobachevskii-dml.ru/article/9754', '//lobachevskii-dml.ru/article/9755', '//lobachevskii-dml.ru/article/9756', '//lobachevskii-dml.ru/article/9757', '//lobachevskii-dml.ru/article/9758', '//lobachevskii-dml.ru/article/9759', '//lobachevskii-dml.ru/article/9760', '//lobachevskii-dml.ru/article/9761', '//lobachevskii-dml.ru/article/9762', '//lobachevskii-dml.ru/article/9764']\n",
            "['//lobachevskii-dml.ru/article/9733', '//lobachevskii-dml.ru/article/9734', '//lobachevskii-dml.ru/article/9735', '//lobachevskii-dml.ru/article/9736', '//lobachevskii-dml.ru/article/9737', '//lobachevskii-dml.ru/article/9738', '//lobachevskii-dml.ru/article/9739', '//lobachevskii-dml.ru/article/9740', '//lobachevskii-dml.ru/article/9742', '//lobachevskii-dml.ru/article/9743', '//lobachevskii-dml.ru/article/9744', '//lobachevskii-dml.ru/article/9745', '//lobachevskii-dml.ru/article/9746', '//lobachevskii-dml.ru/article/9747', '//lobachevskii-dml.ru/article/9748']\n",
            "['//lobachevskii-dml.ru/article/9569', '//lobachevskii-dml.ru/article/9580', '//lobachevskii-dml.ru/article/9591', '//lobachevskii-dml.ru/article/9602', '//lobachevskii-dml.ru/article/9613', '//lobachevskii-dml.ru/article/9625', '//lobachevskii-dml.ru/article/9636', '//lobachevskii-dml.ru/article/9647', '//lobachevskii-dml.ru/article/9658', '//lobachevskii-dml.ru/article/9669', '//lobachevskii-dml.ru/article/9680', '//lobachevskii-dml.ru/article/9691', '//lobachevskii-dml.ru/article/9702', '//lobachevskii-dml.ru/article/9713', '//lobachevskii-dml.ru/article/9724', '//lobachevskii-dml.ru/article/9731', '//lobachevskii-dml.ru/article/9732']\n",
            "['//lobachevskii-dml.ru/article/9513', '//lobachevskii-dml.ru/article/9624', '//lobachevskii-dml.ru/article/9730', '//lobachevskii-dml.ru/article/9741', '//lobachevskii-dml.ru/article/9752', '//lobachevskii-dml.ru/article/9763', '//lobachevskii-dml.ru/article/9774', '//lobachevskii-dml.ru/article/9785', '//lobachevskii-dml.ru/article/9796', '//lobachevskii-dml.ru/article/9514', '//lobachevskii-dml.ru/article/9525', '//lobachevskii-dml.ru/article/9536', '//lobachevskii-dml.ru/article/9547', '//lobachevskii-dml.ru/article/9558']\n"
          ]
        }
      ],
      "source": [
        "import requests\n",
        "from bs4 import BeautifulSoup\n",
        "import json\n",
        "\n",
        "data = {}\n",
        "url1 = 'https://lobachevskii-dml.ru/journal/kuipm'\n",
        "response = requests.get(url1)\n",
        "soup = BeautifulSoup(response.text, features='html.parser')\n",
        "issues = soup.find_all('td')\n",
        "issues_links = []\n",
        "pdf_links = []\n",
        "i = 0\n",
        "start = -1\n",
        "for issue in issues:\n",
        "  while True:\n",
        "    start = str(issue).find('href=\"', start + 1)\n",
        "    if start == -1:\n",
        "      break\n",
        "    end = start + 6 + 39 if str(issue)[start + 6 + 39] == '\"' else start + 6 + 38\n",
        "    issues_links.append(str(issue)[start + 6:end])\n",
        "for issue_link in issues_links:\n",
        "  url2 = 'https:' + issue_link\n",
        "  response = requests.get(url2)\n",
        "  soup = BeautifulSoup(response.text, features='html.parser')\n",
        "  articles = soup.find_all('div', class_='articleItem')\n",
        "  links = []\n",
        "  for article in articles:\n",
        "    start = str(article).find('href=\"') + 6\n",
        "    end = start + 39 if str(issue)[start + 35] == '\"' else start + 34\n",
        "    links.append(str(article)[start:end])\n",
        "  print(links)\n",
        "  for link in links:\n",
        "    id = link[-4:]\n",
        "    url = 'https:' + link\n",
        "    response = requests.get(url)\n",
        "    soup = BeautifulSoup(response.text, features='html.parser')\n",
        "    title = soup.find_all('h3', id='title')\n",
        "    authors = soup.find_all('div', id='authors')\n",
        "    authors = authors[0].text.replace(u'\\xa0', u' ').replace('\\n', '')\n",
        "    title_article = str(title[0].text.replace(u'\\xa0', u' ') + ' ' + authors)\n",
        "    data[str(id)] = []\n",
        "    data[str(id)].append({\n",
        "        'title': title_article,\n",
        "        'link': link\n",
        "    })\n",
        "    soup = BeautifulSoup(response.text, features='html.parser')\n",
        "    span = soup.find_all('span', class_='glyphicon-paperclip')\n",
        "    start = str(span[0].parent).find('href=\"') + 6\n",
        "    end = str(span[0].parent).find('>') - 13\n",
        "    pdf_links.append(str(span[0].parent).replace('&amp;', '&')[start:end])\n",
        "with open('data.txt', 'w') as outfile:\n",
        "    json.dump(data, outfile, indent=4, ensure_ascii=False)"
      ]
    },
    {
      "cell_type": "code",
      "execution_count": 72,
      "metadata": {
        "colab": {
          "base_uri": "https://localhost:8080/"
        },
        "id": "CyUawqGk2bl6",
        "outputId": "78908ba5-6bf3-4c74-d019-55dfbbe1538d"
      },
      "outputs": [
        {
          "output_type": "stream",
          "name": "stdout",
          "text": [
            "294\n"
          ]
        }
      ],
      "source": [
        "print(len(pdf_links))"
      ]
    },
    {
      "cell_type": "markdown",
      "source": [
        "## Необходимые библиотеки + список стоп-слов\n"
      ],
      "metadata": {
        "id": "D3JbiaunGV9p"
      }
    },
    {
      "cell_type": "code",
      "execution_count": 73,
      "metadata": {
        "colab": {
          "base_uri": "https://localhost:8080/"
        },
        "id": "fhZcYKOT2bjK",
        "outputId": "9657bd5f-a359-43b3-ef2f-0d1120168350"
      },
      "outputs": [
        {
          "output_type": "stream",
          "name": "stdout",
          "text": [
            "Looking in indexes: https://pypi.org/simple, https://us-python.pkg.dev/colab-wheels/public/simple/\n",
            "Requirement already satisfied: PyMuPDF in /usr/local/lib/python3.10/dist-packages (1.22.3)\n"
          ]
        }
      ],
      "source": [
        "!pip install PyMuPDF"
      ]
    },
    {
      "cell_type": "code",
      "execution_count": 74,
      "metadata": {
        "colab": {
          "base_uri": "https://localhost:8080/"
        },
        "id": "5anTBTZ72bgL",
        "outputId": "3c8c61d4-c3d2-4535-ddd9-ebc0be282444"
      },
      "outputs": [
        {
          "output_type": "stream",
          "name": "stdout",
          "text": [
            "Looking in indexes: https://pypi.org/simple, https://us-python.pkg.dev/colab-wheels/public/simple/\n",
            "Requirement already satisfied: PyPDF2 in /usr/local/lib/python3.10/dist-packages (3.0.1)\n"
          ]
        }
      ],
      "source": [
        "!pip install PyPDF2"
      ]
    },
    {
      "cell_type": "code",
      "execution_count": 75,
      "metadata": {
        "colab": {
          "base_uri": "https://localhost:8080/"
        },
        "id": "HlmA8Tx-2pTI",
        "outputId": "46264a73-6e61-47e7-857a-4a20e2d9fb18"
      },
      "outputs": [
        {
          "output_type": "stream",
          "name": "stderr",
          "text": [
            "[nltk_data] Downloading package stopwords to /root/nltk_data...\n",
            "[nltk_data]   Package stopwords is already up-to-date!\n"
          ]
        }
      ],
      "source": [
        "from nltk.corpus import stopwords\n",
        "import nltk\n",
        "nltk.download('stopwords')\n",
        "\n",
        "from string import punctuation\n",
        "punctuation\n",
        "my_words = ['выпуск','который', 'некоторый', 'далее', 'общероссийский', 'математический', 'портал', 'использование', 'подразумевать', 'прочитать', 'согласный', 'соглашение',\n",
        "            'параметр', 'загрузка', 'апрель', 'волёд', 'рисс', 'ностный', 'нетрудно', 'заметить', 'итак', 'следующий', 'опра', 'гато', 'нала', 'абель', 'поэтому', 'ревуяьтатшть',\n",
        "            'явшть', ' етчашщий', 'еледуащш', 'услсвид', 'деавтеттотьвда', 'тагир', 'арслан', 'ренциальный', 'глушенков', 'смирнов', 'хороший', 'усоа', 'семёнов', 'айзенберг',\n",
        "            'дубровин', 'анастасьев', 'отсюда', 'подп', 'никитин', 'насыров', 'прикл', 'ским', 'нечный', 'пользов', 'тельским', 'уоловжь', 'щюцедура', 'ттпг', 'чилапа', 'гумент',\n",
        "            'тивный', 'лямин', 'заботин','отыс', 'каний', 'филипп', 'жения', 'ность', 'функ', 'обсуж', 'бирать', 'дящий', 'морозов', 'звягин', 'ляться', 'щюизводный', 'липшица',\n",
        "            'каадый', 'разр' ,'либо', 'удовлет', 'ворять', 'бадрий', 'ственность', 'стический', 'аицева', 'заключение', 'лизащш', 'вырожа', 'зарайский', 'булат', 'григорьев',\n",
        "            'венство', 'ничение', 'федяев', 'саамов', 'мазо', 'меаду', 'алнй', 'адгам', 'табла', 'исмагил', 'ниитэхий', 'рица', 'щённый', 'возм', 'производ', 'оцногп', 'ксторвас',\n",
        "            'етчашщий', 'таотдаспш', 'лшйяй', 'дотмн', 'цессать', 'ставдшанюго', 'дения', 'шение', 'очень', 'ратор', 'ческий', 'изобра', ' лишь', 'михайлов', 'ление', 'альный',\n",
        "            'стро', 'зации', 'органя', 'значит', 'енной', 'ственный', 'пространа']\n",
        "noise = stopwords.words('russian') + list(punctuation) + list(my_words)"
      ]
    },
    {
      "cell_type": "code",
      "execution_count": 76,
      "metadata": {
        "colab": {
          "base_uri": "https://localhost:8080/"
        },
        "id": "Xa9ZuvIZx8iZ",
        "outputId": "b59fcc0f-f1e1-48c1-ae19-daeea2dcfbd2"
      },
      "outputs": [
        {
          "output_type": "stream",
          "name": "stdout",
          "text": [
            "Looking in indexes: https://pypi.org/simple, https://us-python.pkg.dev/colab-wheels/public/simple/\n",
            "Requirement already satisfied: pymorphy2 in /usr/local/lib/python3.10/dist-packages (0.9.1)\n",
            "Requirement already satisfied: dawg-python>=0.7.1 in /usr/local/lib/python3.10/dist-packages (from pymorphy2) (0.7.2)\n",
            "Requirement already satisfied: pymorphy2-dicts-ru<3.0,>=2.4 in /usr/local/lib/python3.10/dist-packages (from pymorphy2) (2.4.417127.4579844)\n",
            "Requirement already satisfied: docopt>=0.6 in /usr/local/lib/python3.10/dist-packages (from pymorphy2) (0.6.2)\n"
          ]
        }
      ],
      "source": [
        "!pip install pymorphy2"
      ]
    },
    {
      "cell_type": "markdown",
      "metadata": {
        "id": "3NSYlTFH24Rn"
      },
      "source": [
        "## Подготовка текстового набора для векторизации"
      ]
    },
    {
      "cell_type": "code",
      "execution_count": 77,
      "metadata": {
        "colab": {
          "base_uri": "https://localhost:8080/"
        },
        "id": "ia9hdIA52pQk",
        "outputId": "bd88d26e-1726-4ebf-b47a-8736ea534629"
      },
      "outputs": [
        {
          "output_type": "stream",
          "name": "stderr",
          "text": [
            "[nltk_data] Downloading package punkt to /root/nltk_data...\n",
            "[nltk_data]   Package punkt is already up-to-date!\n"
          ]
        }
      ],
      "source": [
        "import fitz # install using: pip install PyMuPDF\n",
        "\n",
        "def get_pdfs(filename):\n",
        "  with fitz.open(filename) as doc:\n",
        "    text = \"\"\n",
        "    for page in doc:\n",
        "        text += page.get_text().lower()\n",
        "  return text\n",
        "\n",
        "import re\n",
        "import nltk\n",
        "nltk.download('punkt')\n",
        "from nltk.tokenize import word_tokenize\n",
        "import pymorphy2\n",
        "morph = pymorphy2.MorphAnalyzer()\n",
        "\n",
        "def pre_process(text):\n",
        "\n",
        "    text=text.lower()\n",
        "\n",
        "    text = word_tokenize(text)\n",
        "\n",
        "    index = 0\n",
        "    for i in range(len(text)):\n",
        "      if(index!=-1):\n",
        "        if (text[i] == 'л'):\n",
        "          if (text[i+1] == 'и'):\n",
        "            if (text[i+2] == 'т'):\n",
        "              index=-1\n",
        "              del text[i:len(text)]\n",
        "\n",
        "\n",
        "    text = ' '.join(text)\n",
        "    text=re.sub(\"(\\\\d|\\\\W|[a-zA-Z]|[_])+\",\" \",text)\n",
        "    text = word_tokenize(text)\n",
        "\n",
        "    for i in range(len(text)):\n",
        "      text[i] = morph.parse(text[i])[0].normal_form\n",
        "\n",
        "    text.pop(0)\n",
        "    text = ' '.join(word for word in text if (not word in noise) and len(word)>3)\n",
        "\n",
        "    return text\n"
      ]
    },
    {
      "cell_type": "code",
      "execution_count": null,
      "metadata": {
        "id": "p5C8pZ302pN-"
      },
      "outputs": [],
      "source": [
        "import io\n",
        "import requests\n",
        "from PyPDF2 import PdfReader, PdfWriter\n",
        "headers = {'User-Agent': 'Mozilla/5.0 (X11; Windows; Windows x86_64) AppleWebKit/537.36 (KHTML, like Gecko) Chrome/103.0.5060.114 Safari/537.36'}\n",
        "\n",
        "texts = []\n",
        "for item in pdf_links:\n",
        "  url = str(item)\n",
        "  response = requests.get(url=url, headers=headers, timeout=120)\n",
        "  on_fly_mem_obj = io.BytesIO(response.content)\n",
        "  pdf_file = PdfReader(on_fly_mem_obj)\n",
        "  writer = PdfWriter()\n",
        "  for pageNum in range(len(pdf_file.pages)):\n",
        "    currentPage = pdf_file.pages[pageNum]\n",
        "    #currentPage.mergePage(watermark.getPage(0))\n",
        "    writer.add_page(currentPage)\n",
        "  outputStream = open(\"output.pdf\",\"wb\")\n",
        "  writer.write(outputStream)\n",
        "  outputStream.close()\n",
        "\n",
        "  pdf_text = get_pdfs(\"output.pdf\")\n",
        "  pre_process_text = pre_process(pdf_text)\n",
        "  texts.append(pre_process_text)\n",
        "  !rm output.pdf"
      ]
    },
    {
      "cell_type": "markdown",
      "metadata": {
        "id": "HD8irfmY3M20"
      },
      "source": [
        "## Построение векторной модели\n"
      ]
    },
    {
      "cell_type": "code",
      "execution_count": 79,
      "metadata": {
        "id": "AG8XV-KNweL6"
      },
      "outputs": [],
      "source": [
        "def findNumOfWords(texts):\n",
        "  numOfWords = dict.fromkeys(uniqueWords, 0)\n",
        "  for word in texts:\n",
        "    numOfWords[word] += 1\n",
        "  return numOfWords"
      ]
    },
    {
      "cell_type": "code",
      "execution_count": 80,
      "metadata": {
        "id": "K6UNafiywhRc"
      },
      "outputs": [],
      "source": [
        "def computeTF(text,numOfWord):\n",
        "  tfDict = {}\n",
        "  bagOfWordsCount = len(text)\n",
        "  for word, count in numOfWord.items():\n",
        "      tfDict[word] = count / float(bagOfWordsCount)\n",
        "  return tfDict\n"
      ]
    },
    {
      "cell_type": "code",
      "execution_count": 81,
      "metadata": {
        "id": "tyyzv3pWwk7a"
      },
      "outputs": [],
      "source": [
        "def computeIDF(texts):\n",
        "    import math\n",
        "\n",
        "    max_val = 0\n",
        "\n",
        "    idfDict = dict.fromkeys(texts[0].keys(), 0)\n",
        "    for document in texts:\n",
        "        for word, val in document.items():\n",
        "            if val > 0:\n",
        "                idfDict[word] += 1\n",
        "\n",
        "    for word, val in idfDict.items():\n",
        "      if val > max_val:\n",
        "        max_val = val\n",
        "\n",
        "    for word, val in idfDict.items():\n",
        "        idfDict[word] = math.log(max_val / (1 + float(val)))\n",
        "    return idfDict"
      ]
    },
    {
      "cell_type": "code",
      "execution_count": 82,
      "metadata": {
        "id": "OQAc5E5Zwo8y"
      },
      "outputs": [],
      "source": [
        "def computeTFIDF(tfBagOfWords, idfs):\n",
        "    tfidf = {}\n",
        "    for word, val in tfBagOfWords.items():\n",
        "        tfidf[word] = val * idfs[word]\n",
        "    return tfidf"
      ]
    },
    {
      "cell_type": "code",
      "execution_count": 83,
      "metadata": {
        "id": "9uUsYrAzwbvi",
        "colab": {
          "base_uri": "https://localhost:8080/"
        },
        "outputId": "076b6ff9-12b1-417e-8a45-5313c5669f54"
      },
      "outputs": [
        {
          "output_type": "stream",
          "name": "stdout",
          "text": [
            "99516\n"
          ]
        }
      ],
      "source": [
        "import nltk\n",
        "\n",
        "for i in range(len(texts)):\n",
        "  text = []\n",
        "  nltk_tokens = nltk.word_tokenize(texts[i])\n",
        "  for item \tin list(nltk.bigrams(nltk_tokens)):\n",
        "    token = ' '.join(item)\n",
        "    text.append(token)\n",
        "  texts[i] = text\n",
        "\n",
        "uniqueWords = set(texts[0]).union(set(texts[1]))\n",
        "for i in range(2, len(texts)):\n",
        "  uniqueWords = (set(texts[i]).union(uniqueWords))\n",
        "print(len(uniqueWords))\n",
        "\n",
        "numOfWords = []\n",
        "for i in range(len(texts)):\n",
        "  numOfWords.append(findNumOfWords(texts[i]))\n",
        "\n",
        "tf = []\n",
        "for i in range(len(texts)):\n",
        "  tf.append(computeTF(texts[i],numOfWords[i]))\n",
        "\n",
        "idfs = computeIDF(numOfWords)\n",
        "\n",
        "tfidf = []\n",
        "for i in range(len(tf)):\n",
        "  tfidf.append(computeTFIDF(tf[i], idfs))\n",
        "\n",
        "for i in range(len(tfidf)):\n",
        "  tfidf[i] = sorted(tfidf[i].items(), key=lambda item: item[1], reverse=True)\n"
      ]
    },
    {
      "cell_type": "code",
      "execution_count": 84,
      "metadata": {
        "id": "4E3cIe7MwuQH"
      },
      "outputs": [],
      "source": [
        "vector = []\n",
        "for i in range(len(tfidf)):\n",
        "  top_10_keyword = tfidf[i][0:10]\n",
        "  keywords = {}\n",
        "  keyword = []\n",
        "  for k,v in top_10_keyword:\n",
        "    keywords[k] = v\n",
        "  for k in keywords:\n",
        "    keyword.append(keywords[k])\n",
        "  vector.append(keyword)"
      ]
    },
    {
      "cell_type": "markdown",
      "metadata": {
        "id": "2eeVFkKWj-xA"
      },
      "source": [
        "## Добавление векторов для каждого документа в json-файл"
      ]
    },
    {
      "cell_type": "code",
      "execution_count": null,
      "metadata": {
        "id": "1fDB7rSIrUml"
      },
      "outputs": [],
      "source": [
        "id = []\n",
        "with open('data.txt') as json_file:\n",
        "  data = json.load(json_file)\n",
        "  for item in data:\n",
        "    id.append(item)\n"
      ]
    },
    {
      "cell_type": "code",
      "execution_count": 87,
      "metadata": {
        "id": "cTL_W3wGsg-Q"
      },
      "outputs": [],
      "source": [
        "def add_to_json(id, vector_article):\n",
        "    json_data = {\n",
        "        \"vector\": vector_article\n",
        "    }\n",
        "    data = json.load(open(\"data.txt\"))\n",
        "    data[str(id)].append(json_data)\n",
        "    with open(\"data.txt\", \"w\") as file:\n",
        "        json.dump(data, file, indent=4, ensure_ascii=False)\n",
        "\n",
        "i = 0\n",
        "for item in id:\n",
        "  add_to_json(item, vector[i])\n",
        "  i+=1"
      ]
    },
    {
      "cell_type": "markdown",
      "metadata": {
        "id": "L977XXY33aL6"
      },
      "source": [
        "## Поиск близких документов"
      ]
    },
    {
      "cell_type": "code",
      "execution_count": 88,
      "metadata": {
        "id": "Vaxjh6Y-7HBg"
      },
      "outputs": [],
      "source": [
        "import math\n",
        "\n",
        "def cosine_sim(vec1, vec2):\n",
        "\n",
        "    dot_prod = 0\n",
        "    for i, v in enumerate(vec1):\n",
        "        dot_prod += v * vec2[i]\n",
        "\n",
        "    mag_1 = math.sqrt(sum([x**2 for x in vec1]))\n",
        "    mag_2 = math.sqrt(sum([x**2 for x in vec2]))\n",
        "\n",
        "    return dot_prod / (mag_1 * mag_2)"
      ]
    },
    {
      "cell_type": "code",
      "source": [
        "from scipy.spatial import distance\n",
        "\n",
        "articles = []\n",
        "with open('data.txt') as json_file:\n",
        "  data = json.load(json_file)\n",
        "  for item in id:\n",
        "    p = data[str(item)][1]\n",
        "    query_features = p['vector']\n",
        "\n",
        "    distances = {}\n",
        "    sorted_dict = {}\n",
        "\n",
        "    for item in data:\n",
        "      p = data[str(item)][1]\n",
        "      distances[str(item)] = cosine_sim(query_features, p['vector'])\n",
        "    sorted_tuples = sorted(distances.items(), key=lambda item: item[1], reverse=False)\n",
        "    sorted_dict = {k: v for k, v in sorted_tuples}\n",
        "\n",
        "    keys = []\n",
        "    for key in sorted_dict:\n",
        "      keys.append(key)\n",
        "\n",
        "    query_doc = data[str(item)][0]['title']\n",
        "    string = []\n",
        "    for i in range(1, 6):\n",
        "      info = []\n",
        "      key = str(keys[i])\n",
        "      return_doc = data[str(key)][0]['title']\n",
        "      url = 'https:' + str(data[str(key)][0]['link'])\n",
        "      info.append(return_doc)\n",
        "      info.append(url)\n",
        "      string.append(info)\n",
        "    articles.append(string)"
      ],
      "metadata": {
        "id": "r1ZAUKWhpmj1"
      },
      "execution_count": null,
      "outputs": []
    },
    {
      "cell_type": "code",
      "source": [
        "def add_to_json(id, articles):\n",
        "    json_data = {\n",
        "        \"similar_articles\": articles\n",
        "    }\n",
        "    data = json.load(open(\"data.txt\"))\n",
        "    data[str(id)].append(json_data)\n",
        "    with open(\"data.txt\", \"w\") as file:\n",
        "        json.dump(data, file, indent=4, ensure_ascii=False)\n",
        "\n",
        "i = 0\n",
        "for item in id:\n",
        "  add_to_json(item, articles[i])\n",
        "  i+=1"
      ],
      "metadata": {
        "id": "22APrkoAWkAa"
      },
      "execution_count": 92,
      "outputs": []
    }
  ],
  "metadata": {
    "colab": {
      "provenance": []
    },
    "kernelspec": {
      "display_name": "Python 3",
      "name": "python3"
    },
    "language_info": {
      "name": "python"
    }
  },
  "nbformat": 4,
  "nbformat_minor": 0
}
